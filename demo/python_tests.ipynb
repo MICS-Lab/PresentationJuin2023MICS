{
 "cells": [
  {
   "cell_type": "code",
   "execution_count": null,
   "metadata": {},
   "outputs": [],
   "source": [
    "import numpy as np\n",
    "import matplotlib.pyplot as plt\n",
    "import scipy"
   ]
  },
  {
   "cell_type": "code",
   "execution_count": null,
   "metadata": {},
   "outputs": [],
   "source": [
    "p = 3\n",
    "v_max = 2\n",
    "f = np.array([1, 2, 3, 2, 1,0])"
   ]
  },
  {
   "attachments": {},
   "cell_type": "markdown",
   "metadata": {},
   "source": [
    "solve for `[left_leaf_times, right_leaf_times]` (variables)"
   ]
  },
  {
   "cell_type": "code",
   "execution_count": null,
   "metadata": {},
   "outputs": [],
   "source": [
    "x_size = f.shape[0]\n",
    "nb_var = 2*x_size\n",
    "\n",
    "# cost function\n",
    "c = np.ones(nb_var)\n",
    "\n",
    "# equality constraints\n",
    "A_eq = np.zeros((x_size, nb_var))\n",
    "for i in range(f.shape[0]):\n",
    "    A_eq[i, i] = 1\n",
    "    A_eq[i, i+f.shape[0]] = -1\n",
    "b_eq = f/p\n"
   ]
  }
 ],
 "metadata": {
  "language_info": {
   "name": "python"
  },
  "orig_nbformat": 4
 },
 "nbformat": 4,
 "nbformat_minor": 2
}
