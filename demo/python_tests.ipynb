{
 "cells": [
  {
   "cell_type": "code",
   "execution_count": 1,
   "metadata": {},
   "outputs": [],
   "source": [
    "import numpy as np\n",
    "import matplotlib.pyplot as plt\n",
    "import scipy"
   ]
  },
  {
   "cell_type": "code",
   "execution_count": 2,
   "metadata": {},
   "outputs": [],
   "source": [
    "p = 30\n",
    "v_max = 20\n",
    "f = np.array([1, 2, 3, 2, 1,0])\n",
    "# f = np.array([ 274, 197, 156, 154, 181, 218, 245, 243, 203, 126 ])"
   ]
  },
  {
   "attachments": {},
   "cell_type": "markdown",
   "metadata": {},
   "source": [
    "solve for `[left_leaf_times, right_leaf_times]` (variables)"
   ]
  },
  {
   "cell_type": "code",
   "execution_count": 3,
   "metadata": {},
   "outputs": [],
   "source": [
    "x_size = f.shape[0]\n",
    "nb_var = 2*x_size\n",
    "\n",
    "# cost function\n",
    "c = np.ones(nb_var)\n",
    "\n",
    "# equality constraints\n",
    "A_eq = np.zeros((x_size, nb_var))\n",
    "for i in range(f.shape[0]):\n",
    "    A_eq[i, i] = 1\n",
    "    A_eq[i, i+f.shape[0]] = -1\n",
    "b_eq = f/p\n",
    "\n",
    "# inequality constraints\n",
    "A_ub = np.zeros((4*(x_size-1), nb_var))\n",
    "for i in range(x_size-1):\n",
    "    A_ub[0*(x_size-1)+i, i] = 1\n",
    "    A_ub[0*(x_size-1)+i, i+1] = -1\n",
    "    A_ub[1*(x_size-1)+i, i] = -1\n",
    "    A_ub[1*(x_size-1)+i, i+1] = 1\n",
    "    A_ub[2*(x_size-1)+i, x_size+i] = 1\n",
    "    A_ub[2*(x_size-1)+i, x_size+i+1] = -1\n",
    "    A_ub[3*(x_size-1)+i, x_size+i] = -1\n",
    "    A_ub[3*(x_size-1)+i, x_size+i+1] = 1\n",
    "b_ub = np.ones(A_ub.shape[0])*v_max\n",
    "b_ub[1*(x_size-1):2*(x_size-1)] = 0\n",
    "b_ub[3*(x_size-1):4*(x_size-1)] = 0\n",
    "\n",
    "# bounds\n",
    "bounds = [(0, None)]*nb_var"
   ]
  },
  {
   "cell_type": "code",
   "execution_count": 4,
   "metadata": {},
   "outputs": [],
   "source": [
    "res = scipy.optimize.linprog(c, A_ub, b_ub, A_eq, b_eq, bounds, method='highs')"
   ]
  },
  {
   "cell_type": "code",
   "execution_count": 5,
   "metadata": {},
   "outputs": [
    {
     "data": {
      "text/plain": [
       "           con: array([0., 0., 0., 0., 0., 0.])\n",
       " crossover_nit: 0\n",
       "         eqlin:  marginals: array([-1., -1.,  5.,  1.,  1.,  1.])\n",
       "  residual: array([0., 0., 0., 0., 0., 0.])\n",
       "           fun: 0.5\n",
       "       ineqlin:  marginals: array([ -0.,  -0.,  -0.,  -0.,  -0.,  -2.,  -4.,  -0.,  -0.,  -0.,  -0.,\n",
       "        -0.,  -0.,  -0.,  -0.,  -0.,  -0.,  -6.,  -8., -10.])\n",
       "  residual: array([20.        , 20.        , 19.96666667, 19.96666667, 19.96666667,\n",
       "        0.        ,  0.        ,  0.03333333,  0.03333333,  0.03333333,\n",
       "       19.96666667, 19.96666667, 20.        , 20.        , 20.        ,\n",
       "        0.03333333,  0.03333333,  0.        ,  0.        ,  0.        ])\n",
       "         lower:  marginals: array([ 0.,  0.,  0.,  0.,  0.,  0.,  0.,  0.,  0.,  0.,  0., 12.])\n",
       "  residual: array([ 0.1       ,  0.1       ,  0.1       ,  0.06666667,  0.03333333,\n",
       "       -0.        ,  0.06666667,  0.03333333, -0.        , -0.        ,\n",
       "       -0.        ,  0.        ])\n",
       "       message: 'Optimization terminated successfully. (HiGHS Status 7: Optimal)'\n",
       "           nit: 0\n",
       "         slack: array([20.        , 20.        , 19.96666667, 19.96666667, 19.96666667,\n",
       "        0.        ,  0.        ,  0.03333333,  0.03333333,  0.03333333,\n",
       "       19.96666667, 19.96666667, 20.        , 20.        , 20.        ,\n",
       "        0.03333333,  0.03333333,  0.        ,  0.        ,  0.        ])\n",
       "        status: 0\n",
       "       success: True\n",
       "         upper:  marginals: array([0., 0., 0., 0., 0., 0., 0., 0., 0., 0., 0., 0.])\n",
       "  residual: array([inf, inf, inf, inf, inf, inf, inf, inf, inf, inf, inf, inf])\n",
       "             x: array([ 0.1       ,  0.1       ,  0.1       ,  0.06666667,  0.03333333,\n",
       "       -0.        ,  0.06666667,  0.03333333, -0.        , -0.        ,\n",
       "       -0.        ,  0.        ])"
      ]
     },
     "execution_count": 5,
     "metadata": {},
     "output_type": "execute_result"
    }
   ],
   "source": [
    "res"
   ]
  },
  {
   "cell_type": "code",
   "execution_count": 6,
   "metadata": {},
   "outputs": [
    {
     "name": "stdout",
     "output_type": "stream",
     "text": [
      "left leaf times:  [ 0.1         0.1         0.1         0.06666667  0.03333333 -0.        ]\n",
      "right leaf times:  [ 0.06666667  0.03333333 -0.         -0.         -0.          0.        ]\n"
     ]
    }
   ],
   "source": [
    "# split the solution\n",
    "left_leaf_times = res.x[:x_size]\n",
    "right_leaf_times = res.x[x_size:]\n",
    "# compute actual fluence\n",
    "g = (left_leaf_times - right_leaf_times)*p\n",
    "\n",
    "print('left leaf times: ', left_leaf_times)\n",
    "print('right leaf times: ', right_leaf_times)"
   ]
  },
  {
   "cell_type": "code",
   "execution_count": 7,
   "metadata": {},
   "outputs": [
    {
     "data": {
      "image/png": "[encoded data removed]",
      "text/plain": [
       "<Figure size 640x480 with 1 Axes>"
      ]
     },
     "metadata": {},
     "output_type": "display_data"
    }
   ],
   "source": [
    "# plt.plot(f, label='f')\n",
    "# plt.plot(g, label='g')\n",
    "plt.plot(left_leaf_times, label='left')\n",
    "plt.plot(right_leaf_times, label='right')\n",
    "plt.legend()\n",
    "plt.show()"
   ]
  }
 ],
 "metadata": {
  "kernelspec": {
   "display_name": "Python 3",
   "language": "python",
   "name": "python3"
  },
  "language_info": {
   "codemirror_mode": {
    "name": "ipython",
    "version": 3
   },
   "file_extension": ".py",
   "mimetype": "text/x-python",
   "name": "python",
   "nbconvert_exporter": "python",
   "pygments_lexer": "ipython3",
   "version": "3.10.7"
  },
  "orig_nbformat": 4
 },
 "nbformat": 4,
 "nbformat_minor": 2
}
